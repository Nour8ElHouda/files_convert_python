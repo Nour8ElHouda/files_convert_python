{
 "cells": [
  {
   "cell_type": "markdown",
   "id": "4ece5c6b",
   "metadata": {},
   "source": [
    "### From PDF to JPG"
   ]
  },
  {
   "cell_type": "code",
   "execution_count": 1,
   "id": "c21fdb9a",
   "metadata": {},
   "outputs": [],
   "source": [
    "import os\n",
    "import fitz"
   ]
  },
  {
   "cell_type": "code",
   "execution_count": 9,
   "id": "516ca15b",
   "metadata": {},
   "outputs": [],
   "source": [
    "import os\n",
    "import fitz\n",
    "\n",
    "def pdf_to_image(pdf_path, output_dir):\n",
    "    # Load the PDF document\n",
    "    doc = fitz.open(pdf_path)\n",
    "\n",
    "    # Create the output directory if it doesn't exist\n",
    "    os.makedirs(output_dir, exist_ok=True)\n",
    "\n",
    "    # Iterate over each page in the document\n",
    "    for i, page in enumerate(doc):\n",
    "        # Convert the page to a pixmap\n",
    "        pix = page.get_pixmap()\n",
    "\n",
    "        # Generate the output image path for each page\n",
    "        image_path = os.path.join(output_dir, f\"output_{i}.jpg\")\n",
    "\n",
    "        # Save the pixmap as a JPEG image\n",
    "        pix.save(image_path, \"jpeg\")\n",
    "\n",
    "    # Close the PDF document\n",
    "    doc.close()\n",
    "\n",
    "    print(\"Conversion completed successfully.\")\n"
   ]
  },
  {
   "cell_type": "code",
   "execution_count": null,
   "id": "ddb1155e",
   "metadata": {},
   "outputs": [],
   "source": [
    "# Path to the PDF file\n",
    "pdf_file = r\"C:\\Users\\hp\\Desktop\\filename.pdf\"\n",
    "\n",
    "# Output directory for the image\n",
    "output_directory = r\"C:\\Users\\hp\\Desktop\"\n",
    "\n",
    "# Convert the PDF to an image\n",
    "pdf_to_image(pdf_file, output_directory)\n"
   ]
  },
  {
   "cell_type": "code",
   "execution_count": 10,
   "id": "4584d0b1",
   "metadata": {},
   "outputs": [
    {
     "name": "stdout",
     "output_type": "stream",
     "text": [
      "Enter the path to the PDF file: C:\\Users\\hp\\Desktop\\memoire M2\n",
      "Enter the name of the PDF file: 0 imagerie medicale (cours)\n",
      "C:\\Users\\hp\\Desktop\\memoire M2\\0 imagerie medicale (cours).pdf\n",
      "Enter the output directory for the image: C:\\Users\\hp\\Desktop\\memoire M2\n",
      "Conversion completed successfully.\n"
     ]
    }
   ],
   "source": [
    "# Get input from the user for the path and filename\n",
    "file_path = input(\"Enter the path to the PDF file: \")\n",
    "file_name = input(\"Enter the name of the PDF file: \")\n",
    "\n",
    "# Concatenate the path and file name into a single variable\n",
    "full_path = file_path + \"\\\\\" + file_name +\".pdf\"\n",
    "print(full_path)\n",
    "# Get input from the user for the output directory\n",
    "output_directory = input(\"Enter the output directory for the image: \")\n",
    "\n",
    "# Convert the PDF to an image\n",
    "pdf_to_image(full_path, output_directory)\n"
   ]
  },
  {
   "cell_type": "code",
   "execution_count": null,
   "id": "bde1e361",
   "metadata": {},
   "outputs": [],
   "source": []
  }
 ],
 "metadata": {
  "kernelspec": {
   "display_name": "Python 3 (ipykernel)",
   "language": "python",
   "name": "python3"
  },
  "language_info": {
   "codemirror_mode": {
    "name": "ipython",
    "version": 3
   },
   "file_extension": ".py",
   "mimetype": "text/x-python",
   "name": "python",
   "nbconvert_exporter": "python",
   "pygments_lexer": "ipython3",
   "version": "3.9.13"
  }
 },
 "nbformat": 4,
 "nbformat_minor": 5
}
